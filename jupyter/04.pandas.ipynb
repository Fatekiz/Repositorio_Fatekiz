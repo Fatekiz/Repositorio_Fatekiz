{
 "cells": [
  {
   "cell_type": "markdown",
   "metadata": {},
   "source": [
    "# importando bibliotecas"
   ]
  },
  {
   "cell_type": "code",
   "execution_count": 11,
   "metadata": {},
   "outputs": [],
   "source": [
    "import pandas as pd\n",
    "import numpy as np\n",
    "import matplotlib.pyplot as plt"
   ]
  },
  {
   "cell_type": "markdown",
   "metadata": {},
   "source": [
    "# inicializando dataset\n"
   ]
  },
  {
   "cell_type": "code",
   "execution_count": 12,
   "metadata": {},
   "outputs": [
    {
     "data": {
      "text/html": [
       "<div>\n",
       "<style scoped>\n",
       "    .dataframe tbody tr th:only-of-type {\n",
       "        vertical-align: middle;\n",
       "    }\n",
       "\n",
       "    .dataframe tbody tr th {\n",
       "        vertical-align: top;\n",
       "    }\n",
       "\n",
       "    .dataframe thead th {\n",
       "        text-align: right;\n",
       "    }\n",
       "</style>\n",
       "<table border=\"1\" class=\"dataframe\">\n",
       "  <thead>\n",
       "    <tr style=\"text-align: right;\">\n",
       "      <th></th>\n",
       "      <th>Title</th>\n",
       "      <th>Release Date</th>\n",
       "      <th>Team</th>\n",
       "      <th>Rating</th>\n",
       "      <th>Times Listed</th>\n",
       "      <th>Number of Reviews</th>\n",
       "      <th>Genres</th>\n",
       "      <th>Summary</th>\n",
       "      <th>Reviews</th>\n",
       "      <th>Plays</th>\n",
       "      <th>Playing</th>\n",
       "      <th>Backlogs</th>\n",
       "      <th>Wishlist</th>\n",
       "    </tr>\n",
       "    <tr>\n",
       "      <th>Id</th>\n",
       "      <th></th>\n",
       "      <th></th>\n",
       "      <th></th>\n",
       "      <th></th>\n",
       "      <th></th>\n",
       "      <th></th>\n",
       "      <th></th>\n",
       "      <th></th>\n",
       "      <th></th>\n",
       "      <th></th>\n",
       "      <th></th>\n",
       "      <th></th>\n",
       "      <th></th>\n",
       "    </tr>\n",
       "  </thead>\n",
       "  <tbody>\n",
       "    <tr>\n",
       "      <th>0</th>\n",
       "      <td>Elden Ring</td>\n",
       "      <td>Feb 25, 2022</td>\n",
       "      <td>['Bandai Namco Entertainment', 'FromSoftware']</td>\n",
       "      <td>4.5</td>\n",
       "      <td>3.9K</td>\n",
       "      <td>3.9K</td>\n",
       "      <td>['Adventure', 'RPG']</td>\n",
       "      <td>Elden Ring is a fantasy, action and open world...</td>\n",
       "      <td>[\"The first playthrough of elden ring is one o...</td>\n",
       "      <td>17K</td>\n",
       "      <td>3.8K</td>\n",
       "      <td>4.6K</td>\n",
       "      <td>4.8K</td>\n",
       "    </tr>\n",
       "    <tr>\n",
       "      <th>1</th>\n",
       "      <td>Hades</td>\n",
       "      <td>Dec 10, 2019</td>\n",
       "      <td>['Supergiant Games']</td>\n",
       "      <td>4.3</td>\n",
       "      <td>2.9K</td>\n",
       "      <td>2.9K</td>\n",
       "      <td>['Adventure', 'Brawler', 'Indie', 'RPG']</td>\n",
       "      <td>A rogue-lite hack and slash dungeon crawler in...</td>\n",
       "      <td>['convinced this is a roguelike for people who...</td>\n",
       "      <td>21K</td>\n",
       "      <td>3.2K</td>\n",
       "      <td>6.3K</td>\n",
       "      <td>3.6K</td>\n",
       "    </tr>\n",
       "    <tr>\n",
       "      <th>2</th>\n",
       "      <td>The Legend of Zelda: Breath of the Wild</td>\n",
       "      <td>Mar 03, 2017</td>\n",
       "      <td>['Nintendo', 'Nintendo EPD Production Group No...</td>\n",
       "      <td>4.4</td>\n",
       "      <td>4.3K</td>\n",
       "      <td>4.3K</td>\n",
       "      <td>['Adventure', 'RPG']</td>\n",
       "      <td>The Legend of Zelda: Breath of the Wild is the...</td>\n",
       "      <td>['This game is the game (that is not CS:GO) th...</td>\n",
       "      <td>30K</td>\n",
       "      <td>2.5K</td>\n",
       "      <td>5K</td>\n",
       "      <td>2.6K</td>\n",
       "    </tr>\n",
       "    <tr>\n",
       "      <th>3</th>\n",
       "      <td>Undertale</td>\n",
       "      <td>Sep 15, 2015</td>\n",
       "      <td>['tobyfox', '8-4']</td>\n",
       "      <td>4.2</td>\n",
       "      <td>3.5K</td>\n",
       "      <td>3.5K</td>\n",
       "      <td>['Adventure', 'Indie', 'RPG', 'Turn Based Stra...</td>\n",
       "      <td>A small child falls into the Underground, wher...</td>\n",
       "      <td>['soundtrack is tied for #1 with nier automata...</td>\n",
       "      <td>28K</td>\n",
       "      <td>679</td>\n",
       "      <td>4.9K</td>\n",
       "      <td>1.8K</td>\n",
       "    </tr>\n",
       "    <tr>\n",
       "      <th>4</th>\n",
       "      <td>Hollow Knight</td>\n",
       "      <td>Feb 24, 2017</td>\n",
       "      <td>['Team Cherry']</td>\n",
       "      <td>4.4</td>\n",
       "      <td>3K</td>\n",
       "      <td>3K</td>\n",
       "      <td>['Adventure', 'Indie', 'Platform']</td>\n",
       "      <td>A 2D metroidvania with an emphasis on close co...</td>\n",
       "      <td>[\"this games worldbuilding is incredible, with...</td>\n",
       "      <td>21K</td>\n",
       "      <td>2.4K</td>\n",
       "      <td>8.3K</td>\n",
       "      <td>2.3K</td>\n",
       "    </tr>\n",
       "  </tbody>\n",
       "</table>\n",
       "</div>"
      ],
      "text/plain": [
       "                                      Title  Release Date  \\\n",
       "Id                                                          \n",
       "0                                Elden Ring  Feb 25, 2022   \n",
       "1                                     Hades  Dec 10, 2019   \n",
       "2   The Legend of Zelda: Breath of the Wild  Mar 03, 2017   \n",
       "3                                 Undertale  Sep 15, 2015   \n",
       "4                             Hollow Knight  Feb 24, 2017   \n",
       "\n",
       "                                                 Team  Rating Times Listed  \\\n",
       "Id                                                                           \n",
       "0      ['Bandai Namco Entertainment', 'FromSoftware']     4.5         3.9K   \n",
       "1                                ['Supergiant Games']     4.3         2.9K   \n",
       "2   ['Nintendo', 'Nintendo EPD Production Group No...     4.4         4.3K   \n",
       "3                                  ['tobyfox', '8-4']     4.2         3.5K   \n",
       "4                                     ['Team Cherry']     4.4           3K   \n",
       "\n",
       "   Number of Reviews                                             Genres  \\\n",
       "Id                                                                        \n",
       "0               3.9K                               ['Adventure', 'RPG']   \n",
       "1               2.9K           ['Adventure', 'Brawler', 'Indie', 'RPG']   \n",
       "2               4.3K                               ['Adventure', 'RPG']   \n",
       "3               3.5K  ['Adventure', 'Indie', 'RPG', 'Turn Based Stra...   \n",
       "4                 3K                 ['Adventure', 'Indie', 'Platform']   \n",
       "\n",
       "                                              Summary  \\\n",
       "Id                                                      \n",
       "0   Elden Ring is a fantasy, action and open world...   \n",
       "1   A rogue-lite hack and slash dungeon crawler in...   \n",
       "2   The Legend of Zelda: Breath of the Wild is the...   \n",
       "3   A small child falls into the Underground, wher...   \n",
       "4   A 2D metroidvania with an emphasis on close co...   \n",
       "\n",
       "                                              Reviews Plays Playing Backlogs  \\\n",
       "Id                                                                             \n",
       "0   [\"The first playthrough of elden ring is one o...   17K    3.8K     4.6K   \n",
       "1   ['convinced this is a roguelike for people who...   21K    3.2K     6.3K   \n",
       "2   ['This game is the game (that is not CS:GO) th...   30K    2.5K       5K   \n",
       "3   ['soundtrack is tied for #1 with nier automata...   28K     679     4.9K   \n",
       "4   [\"this games worldbuilding is incredible, with...   21K    2.4K     8.3K   \n",
       "\n",
       "   Wishlist  \n",
       "Id           \n",
       "0      4.8K  \n",
       "1      3.6K  \n",
       "2      2.6K  \n",
       "3      1.8K  \n",
       "4      2.3K  "
      ]
     },
     "execution_count": 12,
     "metadata": {},
     "output_type": "execute_result"
    }
   ],
   "source": [
    "datos = pd.read_csv(\"assets/data/games.csv\", index_col=\"Id\") # el pd (pandas) y luego con un read_csv(\"aquí la ruta\") luego un , index_col=\"id\"\n",
    "datos.head() # un Head para poder mostrar dentro del (espeifico el número que quiero ver/ el default es 5) "
   ]
  },
  {
   "cell_type": "markdown",
   "metadata": {},
   "source": [
    "#### Dimension del dataset"
   ]
  },
  {
   "cell_type": "code",
   "execution_count": 13,
   "metadata": {},
   "outputs": [
    {
     "name": "stdout",
     "output_type": "stream",
     "text": [
      "La dimension del data set es: (1512, 13)\n"
     ]
    }
   ],
   "source": [
    "print(f\"La dimension del data set es: {datos.shape}\")"
   ]
  },
  {
   "cell_type": "markdown",
   "metadata": {},
   "source": [
    "### info nos sirve siempre que queramos ver la informacion de los .csv"
   ]
  },
  {
   "cell_type": "code",
   "execution_count": 14,
   "metadata": {},
   "outputs": [
    {
     "name": "stdout",
     "output_type": "stream",
     "text": [
      "<class 'pandas.core.frame.DataFrame'>\n",
      "Index: 1512 entries, 0 to 1511\n",
      "Data columns (total 13 columns):\n",
      " #   Column             Non-Null Count  Dtype  \n",
      "---  ------             --------------  -----  \n",
      " 0   Title              1512 non-null   object \n",
      " 1   Release Date       1512 non-null   object \n",
      " 2   Team               1511 non-null   object \n",
      " 3   Rating             1499 non-null   float64\n",
      " 4   Times Listed       1512 non-null   object \n",
      " 5   Number of Reviews  1512 non-null   object \n",
      " 6   Genres             1512 non-null   object \n",
      " 7   Summary            1511 non-null   object \n",
      " 8   Reviews            1512 non-null   object \n",
      " 9   Plays              1512 non-null   object \n",
      " 10  Playing            1512 non-null   object \n",
      " 11  Backlogs           1512 non-null   object \n",
      " 12  Wishlist           1512 non-null   object \n",
      "dtypes: float64(1), object(12)\n",
      "memory usage: 165.4+ KB\n"
     ]
    }
   ],
   "source": [
    "datos.info()"
   ]
  },
  {
   "cell_type": "markdown",
   "metadata": {},
   "source": [
    "### Tambien con un .isnull().any() simplificamos mejor para analizar la información"
   ]
  },
  {
   "cell_type": "code",
   "execution_count": 15,
   "metadata": {},
   "outputs": [
    {
     "data": {
      "text/plain": [
       "Title                False\n",
       "Release Date         False\n",
       "Team                  True\n",
       "Rating                True\n",
       "Times Listed         False\n",
       "Number of Reviews    False\n",
       "Genres               False\n",
       "Summary               True\n",
       "Reviews              False\n",
       "Plays                False\n",
       "Playing              False\n",
       "Backlogs             False\n",
       "Wishlist             False\n",
       "dtype: bool"
      ]
     },
     "execution_count": 15,
     "metadata": {},
     "output_type": "execute_result"
    }
   ],
   "source": [
    "datos.isnull().any()"
   ]
  },
  {
   "cell_type": "markdown",
   "metadata": {},
   "source": [
    "## Mostrando las filas en especifico con datos null\n",
    "### con un axis=1 => 0 es eje(x) (Filas) y 1 es eje(y) (columnas)\n",
    "\n",
    "##### axis=0: Aplica la operación a lo largo de las filas (por columna). Este es el valor predeterminado.\n",
    "##### axis=1: Aplica la operación a lo largo de las columnas (por fila)."
   ]
  },
  {
   "cell_type": "code",
   "execution_count": 16,
   "metadata": {},
   "outputs": [
    {
     "name": "stdout",
     "output_type": "stream",
     "text": [
      "                                                  Title     Release Date  \\\n",
      "Id                                                                         \n",
      "587                                   Final Fantasy XVI     Jun 22, 2023   \n",
      "649                                   Death Stranding 2  releases on TBD   \n",
      "713                           Final Fantasy VII Rebirth     Dec 31, 2023   \n",
      "719                                           Lies of P     Aug 01, 2023   \n",
      "726                                               Judas     Mar 31, 2025   \n",
      "746   Like a Dragon Gaiden: The Man Who Erased His Name     Dec 31, 2023   \n",
      "972           The Legend of Zelda: Tears of the Kingdom     May 12, 2023   \n",
      "1130                           Star Wars Jedi: Survivor     Apr 28, 2023   \n",
      "1160            We Love Katamari Reroll + Royal Reverie     Jun 02, 2023   \n",
      "1202                                         Earthblade     Dec 31, 2024   \n",
      "1245                               NEET Girl Date Night     Oct 21, 2022   \n",
      "1305                                          Diablo IV     Jun 06, 2023   \n",
      "1341                                   Pac-Man in a Tin     Mar 22, 2023   \n",
      "1349                                       Pokémon Añil     Mar 23, 2023   \n",
      "\n",
      "                                                   Team  Rating Times Listed  \\\n",
      "Id                                                                             \n",
      "587   ['Square Enix', 'Square Enix Creative Business...     NaN          422   \n",
      "649                              ['Kojima Productions']     NaN          105   \n",
      "713                                     ['Square Enix']     NaN          192   \n",
      "719                         ['NEOWIZ', 'Round8 Studio']     NaN          175   \n",
      "726                               ['Ghost Story Games']     NaN           90   \n",
      "746                   ['Ryū Ga Gotoku Studios', 'Sega']     NaN          118   \n",
      "972   ['Nintendo', 'Nintendo EPD Production Group No...     NaN          581   \n",
      "1130       ['Respawn Entertainment', 'Electronic Arts']     NaN          250   \n",
      "1160  ['Bandai Namco Entertainment', 'MONKEYCRAFT Co...     NaN           51   \n",
      "1202                             ['Extremely OK Games']     NaN           83   \n",
      "1245                                                NaN     2.7           21   \n",
      "1305                         ['Blizzard Entertainment']     NaN          148   \n",
      "1341                                 ['Fizz Creations']     NaN            0   \n",
      "1349                                      ['Eric Lost']     NaN            2   \n",
      "\n",
      "     Number of Reviews                           Genres  \\\n",
      "Id                                                        \n",
      "587                422                          ['RPG']   \n",
      "649                105         ['Adventure', 'Shooter']   \n",
      "713                192                               []   \n",
      "719                175                          ['RPG']   \n",
      "726                 90         ['Adventure', 'Shooter']   \n",
      "746                118  ['Adventure', 'Brawler', 'RPG']   \n",
      "972                581             ['Adventure', 'RPG']   \n",
      "1130               250                    ['Adventure']   \n",
      "1160                51          ['Adventure', 'Puzzle']   \n",
      "1202                83    ['Adventure', 'Indie', 'RPG']   \n",
      "1245                21                 ['Visual Novel']   \n",
      "1305               148               ['Brawler', 'RPG']   \n",
      "1341                 0                       ['Arcade']   \n",
      "1349                 2                          ['RPG']   \n",
      "\n",
      "                                                Summary  \\\n",
      "Id                                                        \n",
      "587   Final Fantasy XVI is an upcoming action role-p...   \n",
      "649                                                 NaN   \n",
      "713   This next standalone chapter in the FINAL FANT...   \n",
      "719   Inspired by the familiar story of Pinocchio, L...   \n",
      "726   A disintegrating starship. A desperate escape ...   \n",
      "746   This game covers Kiryu's story between Yakuza ...   \n",
      "972   The Legend of Zelda: Tears of the Kingdom is t...   \n",
      "1130  The story of Cal Kestis continues in Star Wars...   \n",
      "1160  We Love Katamari Reroll + Royal Reverie is a r...   \n",
      "1202  You are Névoa, an enigmatic child of Fate retu...   \n",
      "1245  Your friend sets you up on a date with his NEE...   \n",
      "1305  Endless demons to slaughter. Deep customizatio...   \n",
      "1341  Pac-Man in a Tin is a pocket-sized tin contain...   \n",
      "1349  Pokémon Añil is the fourth video game created ...   \n",
      "\n",
      "                                                Reviews Plays Playing  \\\n",
      "Id                                                                      \n",
      "587                                                  []    37      10   \n",
      "649                                                  []     3       0   \n",
      "713                                                  []    20       3   \n",
      "719                                                  []     5       0   \n",
      "726                                                  []     1       0   \n",
      "746                                                  []     2       1   \n",
      "972                                                  []    72       6   \n",
      "1130                                                 []    13       2   \n",
      "1160                                                 []     3       0   \n",
      "1202                                                 []     0       1   \n",
      "1245  ['this sucked. \"Omg she is literally me\" is no...   106       1   \n",
      "1305                                                 []    19      10   \n",
      "1341                                                 []     1       0   \n",
      "1349  ['pokemon HWHAT', 'Finally, after all these ye...     1       0   \n",
      "\n",
      "     Backlogs Wishlist  \n",
      "Id                      \n",
      "587       732     2.4K  \n",
      "649       209      644  \n",
      "713       354     1.1K  \n",
      "719       260      939  \n",
      "726        92      437  \n",
      "746       145      588  \n",
      "972      1.6K     5.4K  \n",
      "1130      367     1.4K  \n",
      "1160       74      291  \n",
      "1202      103      529  \n",
      "1245       44       42  \n",
      "1305      179      677  \n",
      "1341        1        2  \n",
      "1349        1        7  \n"
     ]
    }
   ],
   "source": [
    "filas_nulas = datos[datos.isnull().any(axis=1)]\n",
    "print(filas_nulas)"
   ]
  },
  {
   "cell_type": "markdown",
   "metadata": {},
   "source": [
    "## .dropna() nos sirve para eliminar aquellos que tengan un dato naN"
   ]
  },
  {
   "cell_type": "code",
   "execution_count": 17,
   "metadata": {},
   "outputs": [
    {
     "name": "stdout",
     "output_type": "stream",
     "text": [
      "<class 'pandas.core.frame.DataFrame'>\n",
      "Index: 1498 entries, 0 to 1511\n",
      "Data columns (total 13 columns):\n",
      " #   Column             Non-Null Count  Dtype  \n",
      "---  ------             --------------  -----  \n",
      " 0   Title              1498 non-null   object \n",
      " 1   Release Date       1498 non-null   object \n",
      " 2   Team               1498 non-null   object \n",
      " 3   Rating             1498 non-null   float64\n",
      " 4   Times Listed       1498 non-null   object \n",
      " 5   Number of Reviews  1498 non-null   object \n",
      " 6   Genres             1498 non-null   object \n",
      " 7   Summary            1498 non-null   object \n",
      " 8   Reviews            1498 non-null   object \n",
      " 9   Plays              1498 non-null   object \n",
      " 10  Playing            1498 non-null   object \n",
      " 11  Backlogs           1498 non-null   object \n",
      " 12  Wishlist           1498 non-null   object \n",
      "dtypes: float64(1), object(12)\n",
      "memory usage: 163.8+ KB\n"
     ]
    }
   ],
   "source": [
    "data_sin_nulos = datos.dropna() # elimina filas o columnas que contengan datos con valores naN\n",
    "data_sin_nulos.info()"
   ]
  },
  {
   "cell_type": "markdown",
   "metadata": {},
   "source": [
    "### verificar si el genero rpg esta presente en el dataset\n"
   ]
  },
  {
   "cell_type": "code",
   "execution_count": 18,
   "metadata": {},
   "outputs": [],
   "source": [
    "# creo una funcion la cual me retornara RPG en genres (generos)\n",
    "def filtro_rpg(genres):\n",
    "    return 'RPG' in genres\n",
    "\n",
    "# Se aplica el filtro utilizando un apply\n",
    "datosRPG = data_sin_nulos[data_sin_nulos['Genres'].apply(filtro_rpg)] # el . apply es para que se añada a datosRPG y el (filtro_rpg) es para que se haga la función"
   ]
  },
  {
   "cell_type": "code",
   "execution_count": 19,
   "metadata": {},
   "outputs": [
    {
     "data": {
      "text/html": [
       "<div>\n",
       "<style scoped>\n",
       "    .dataframe tbody tr th:only-of-type {\n",
       "        vertical-align: middle;\n",
       "    }\n",
       "\n",
       "    .dataframe tbody tr th {\n",
       "        vertical-align: top;\n",
       "    }\n",
       "\n",
       "    .dataframe thead th {\n",
       "        text-align: right;\n",
       "    }\n",
       "</style>\n",
       "<table border=\"1\" class=\"dataframe\">\n",
       "  <thead>\n",
       "    <tr style=\"text-align: right;\">\n",
       "      <th></th>\n",
       "      <th>Title</th>\n",
       "      <th>Release Date</th>\n",
       "      <th>Team</th>\n",
       "      <th>Rating</th>\n",
       "      <th>Times Listed</th>\n",
       "      <th>Number of Reviews</th>\n",
       "      <th>Genres</th>\n",
       "      <th>Summary</th>\n",
       "      <th>Reviews</th>\n",
       "      <th>Plays</th>\n",
       "      <th>Playing</th>\n",
       "      <th>Backlogs</th>\n",
       "      <th>Wishlist</th>\n",
       "    </tr>\n",
       "    <tr>\n",
       "      <th>Id</th>\n",
       "      <th></th>\n",
       "      <th></th>\n",
       "      <th></th>\n",
       "      <th></th>\n",
       "      <th></th>\n",
       "      <th></th>\n",
       "      <th></th>\n",
       "      <th></th>\n",
       "      <th></th>\n",
       "      <th></th>\n",
       "      <th></th>\n",
       "      <th></th>\n",
       "      <th></th>\n",
       "    </tr>\n",
       "  </thead>\n",
       "  <tbody>\n",
       "    <tr>\n",
       "      <th>0</th>\n",
       "      <td>Elden Ring</td>\n",
       "      <td>Feb 25, 2022</td>\n",
       "      <td>['Bandai Namco Entertainment', 'FromSoftware']</td>\n",
       "      <td>4.5</td>\n",
       "      <td>3.9K</td>\n",
       "      <td>3.9K</td>\n",
       "      <td>['Adventure', 'RPG']</td>\n",
       "      <td>Elden Ring is a fantasy, action and open world...</td>\n",
       "      <td>[\"The first playthrough of elden ring is one o...</td>\n",
       "      <td>17K</td>\n",
       "      <td>3.8K</td>\n",
       "      <td>4.6K</td>\n",
       "      <td>4.8K</td>\n",
       "    </tr>\n",
       "    <tr>\n",
       "      <th>1</th>\n",
       "      <td>Hades</td>\n",
       "      <td>Dec 10, 2019</td>\n",
       "      <td>['Supergiant Games']</td>\n",
       "      <td>4.3</td>\n",
       "      <td>2.9K</td>\n",
       "      <td>2.9K</td>\n",
       "      <td>['Adventure', 'Brawler', 'Indie', 'RPG']</td>\n",
       "      <td>A rogue-lite hack and slash dungeon crawler in...</td>\n",
       "      <td>['convinced this is a roguelike for people who...</td>\n",
       "      <td>21K</td>\n",
       "      <td>3.2K</td>\n",
       "      <td>6.3K</td>\n",
       "      <td>3.6K</td>\n",
       "    </tr>\n",
       "    <tr>\n",
       "      <th>2</th>\n",
       "      <td>The Legend of Zelda: Breath of the Wild</td>\n",
       "      <td>Mar 03, 2017</td>\n",
       "      <td>['Nintendo', 'Nintendo EPD Production Group No...</td>\n",
       "      <td>4.4</td>\n",
       "      <td>4.3K</td>\n",
       "      <td>4.3K</td>\n",
       "      <td>['Adventure', 'RPG']</td>\n",
       "      <td>The Legend of Zelda: Breath of the Wild is the...</td>\n",
       "      <td>['This game is the game (that is not CS:GO) th...</td>\n",
       "      <td>30K</td>\n",
       "      <td>2.5K</td>\n",
       "      <td>5K</td>\n",
       "      <td>2.6K</td>\n",
       "    </tr>\n",
       "    <tr>\n",
       "      <th>3</th>\n",
       "      <td>Undertale</td>\n",
       "      <td>Sep 15, 2015</td>\n",
       "      <td>['tobyfox', '8-4']</td>\n",
       "      <td>4.2</td>\n",
       "      <td>3.5K</td>\n",
       "      <td>3.5K</td>\n",
       "      <td>['Adventure', 'Indie', 'RPG', 'Turn Based Stra...</td>\n",
       "      <td>A small child falls into the Underground, wher...</td>\n",
       "      <td>['soundtrack is tied for #1 with nier automata...</td>\n",
       "      <td>28K</td>\n",
       "      <td>679</td>\n",
       "      <td>4.9K</td>\n",
       "      <td>1.8K</td>\n",
       "    </tr>\n",
       "    <tr>\n",
       "      <th>6</th>\n",
       "      <td>Omori</td>\n",
       "      <td>Dec 25, 2020</td>\n",
       "      <td>['OMOCAT', 'PLAYISM']</td>\n",
       "      <td>4.2</td>\n",
       "      <td>1.6K</td>\n",
       "      <td>1.6K</td>\n",
       "      <td>['Adventure', 'Indie', 'RPG', 'Turn Based Stra...</td>\n",
       "      <td>A turn-based surreal horror RPG in which a chi...</td>\n",
       "      <td>[\"The best game I've played in my life\", \"omor...</td>\n",
       "      <td>7.2K</td>\n",
       "      <td>1.1K</td>\n",
       "      <td>4.5K</td>\n",
       "      <td>3.8K</td>\n",
       "    </tr>\n",
       "    <tr>\n",
       "      <th>9</th>\n",
       "      <td>NieR: Automata</td>\n",
       "      <td>Feb 23, 2017</td>\n",
       "      <td>['PlatinumGames', 'Square Enix']</td>\n",
       "      <td>4.3</td>\n",
       "      <td>2.9K</td>\n",
       "      <td>2.9K</td>\n",
       "      <td>['Brawler', 'RPG']</td>\n",
       "      <td>NieR: Automata tells the story of androids 2B,...</td>\n",
       "      <td>['Holy shit', 'im carrying the weight of the w...</td>\n",
       "      <td>18K</td>\n",
       "      <td>1.1K</td>\n",
       "      <td>6.2K</td>\n",
       "      <td>3.6K</td>\n",
       "    </tr>\n",
       "    <tr>\n",
       "      <th>10</th>\n",
       "      <td>Persona 5 Royal</td>\n",
       "      <td>Oct 31, 2019</td>\n",
       "      <td>['Atlus USA', 'Atlus']</td>\n",
       "      <td>4.4</td>\n",
       "      <td>2.7K</td>\n",
       "      <td>2.7K</td>\n",
       "      <td>['Adventure', 'RPG', 'Turn Based Strategy']</td>\n",
       "      <td>An enhanced version of Persona 5 with some new...</td>\n",
       "      <td>['Verdadeiro goty 2017, zelda é o caralho. Vai...</td>\n",
       "      <td>12K</td>\n",
       "      <td>2.3K</td>\n",
       "      <td>5.1K</td>\n",
       "      <td>3K</td>\n",
       "    </tr>\n",
       "    <tr>\n",
       "      <th>12</th>\n",
       "      <td>God of War</td>\n",
       "      <td>Apr 20, 2018</td>\n",
       "      <td>['Sony Interactive Entertainment', 'SIE Santa ...</td>\n",
       "      <td>4.2</td>\n",
       "      <td>2.9K</td>\n",
       "      <td>2.9K</td>\n",
       "      <td>['Adventure', 'Brawler', 'RPG']</td>\n",
       "      <td>God of War is the sequel to God of War III as ...</td>\n",
       "      <td>['freya te vejo como figura materna', 'i ruv !...</td>\n",
       "      <td>21K</td>\n",
       "      <td>1.1K</td>\n",
       "      <td>4.8K</td>\n",
       "      <td>2.6K</td>\n",
       "    </tr>\n",
       "  </tbody>\n",
       "</table>\n",
       "</div>"
      ],
      "text/plain": [
       "                                      Title  Release Date  \\\n",
       "Id                                                          \n",
       "0                                Elden Ring  Feb 25, 2022   \n",
       "1                                     Hades  Dec 10, 2019   \n",
       "2   The Legend of Zelda: Breath of the Wild  Mar 03, 2017   \n",
       "3                                 Undertale  Sep 15, 2015   \n",
       "6                                     Omori  Dec 25, 2020   \n",
       "9                            NieR: Automata  Feb 23, 2017   \n",
       "10                          Persona 5 Royal  Oct 31, 2019   \n",
       "12                               God of War  Apr 20, 2018   \n",
       "\n",
       "                                                 Team  Rating Times Listed  \\\n",
       "Id                                                                           \n",
       "0      ['Bandai Namco Entertainment', 'FromSoftware']     4.5         3.9K   \n",
       "1                                ['Supergiant Games']     4.3         2.9K   \n",
       "2   ['Nintendo', 'Nintendo EPD Production Group No...     4.4         4.3K   \n",
       "3                                  ['tobyfox', '8-4']     4.2         3.5K   \n",
       "6                               ['OMOCAT', 'PLAYISM']     4.2         1.6K   \n",
       "9                    ['PlatinumGames', 'Square Enix']     4.3         2.9K   \n",
       "10                             ['Atlus USA', 'Atlus']     4.4         2.7K   \n",
       "12  ['Sony Interactive Entertainment', 'SIE Santa ...     4.2         2.9K   \n",
       "\n",
       "   Number of Reviews                                             Genres  \\\n",
       "Id                                                                        \n",
       "0               3.9K                               ['Adventure', 'RPG']   \n",
       "1               2.9K           ['Adventure', 'Brawler', 'Indie', 'RPG']   \n",
       "2               4.3K                               ['Adventure', 'RPG']   \n",
       "3               3.5K  ['Adventure', 'Indie', 'RPG', 'Turn Based Stra...   \n",
       "6               1.6K  ['Adventure', 'Indie', 'RPG', 'Turn Based Stra...   \n",
       "9               2.9K                                 ['Brawler', 'RPG']   \n",
       "10              2.7K        ['Adventure', 'RPG', 'Turn Based Strategy']   \n",
       "12              2.9K                    ['Adventure', 'Brawler', 'RPG']   \n",
       "\n",
       "                                              Summary  \\\n",
       "Id                                                      \n",
       "0   Elden Ring is a fantasy, action and open world...   \n",
       "1   A rogue-lite hack and slash dungeon crawler in...   \n",
       "2   The Legend of Zelda: Breath of the Wild is the...   \n",
       "3   A small child falls into the Underground, wher...   \n",
       "6   A turn-based surreal horror RPG in which a chi...   \n",
       "9   NieR: Automata tells the story of androids 2B,...   \n",
       "10  An enhanced version of Persona 5 with some new...   \n",
       "12  God of War is the sequel to God of War III as ...   \n",
       "\n",
       "                                              Reviews Plays Playing Backlogs  \\\n",
       "Id                                                                             \n",
       "0   [\"The first playthrough of elden ring is one o...   17K    3.8K     4.6K   \n",
       "1   ['convinced this is a roguelike for people who...   21K    3.2K     6.3K   \n",
       "2   ['This game is the game (that is not CS:GO) th...   30K    2.5K       5K   \n",
       "3   ['soundtrack is tied for #1 with nier automata...   28K     679     4.9K   \n",
       "6   [\"The best game I've played in my life\", \"omor...  7.2K    1.1K     4.5K   \n",
       "9   ['Holy shit', 'im carrying the weight of the w...   18K    1.1K     6.2K   \n",
       "10  ['Verdadeiro goty 2017, zelda é o caralho. Vai...   12K    2.3K     5.1K   \n",
       "12  ['freya te vejo como figura materna', 'i ruv !...   21K    1.1K     4.8K   \n",
       "\n",
       "   Wishlist  \n",
       "Id           \n",
       "0      4.8K  \n",
       "1      3.6K  \n",
       "2      2.6K  \n",
       "3      1.8K  \n",
       "6      3.8K  \n",
       "9      3.6K  \n",
       "10       3K  \n",
       "12     2.6K  "
      ]
     },
     "execution_count": 19,
     "metadata": {},
     "output_type": "execute_result"
    }
   ],
   "source": [
    "datosRPG.head(8) # muestro los primero 8 datos que cumplen con el \"RPG\""
   ]
  },
  {
   "cell_type": "markdown",
   "metadata": {},
   "source": [
    "# transformacion en solo 2 columnas"
   ]
  },
  {
   "cell_type": "code",
   "execution_count": 20,
   "metadata": {},
   "outputs": [
    {
     "data": {
      "text/html": [
       "<div>\n",
       "<style scoped>\n",
       "    .dataframe tbody tr th:only-of-type {\n",
       "        vertical-align: middle;\n",
       "    }\n",
       "\n",
       "    .dataframe tbody tr th {\n",
       "        vertical-align: top;\n",
       "    }\n",
       "\n",
       "    .dataframe thead th {\n",
       "        text-align: right;\n",
       "    }\n",
       "</style>\n",
       "<table border=\"1\" class=\"dataframe\">\n",
       "  <thead>\n",
       "    <tr style=\"text-align: right;\">\n",
       "      <th></th>\n",
       "      <th>Title</th>\n",
       "      <th>Rating</th>\n",
       "    </tr>\n",
       "    <tr>\n",
       "      <th>Id</th>\n",
       "      <th></th>\n",
       "      <th></th>\n",
       "    </tr>\n",
       "  </thead>\n",
       "  <tbody>\n",
       "    <tr>\n",
       "      <th>0</th>\n",
       "      <td>Elden Ring</td>\n",
       "      <td>4.5</td>\n",
       "    </tr>\n",
       "    <tr>\n",
       "      <th>1</th>\n",
       "      <td>Hades</td>\n",
       "      <td>4.3</td>\n",
       "    </tr>\n",
       "    <tr>\n",
       "      <th>2</th>\n",
       "      <td>The Legend of Zelda: Breath of the Wild</td>\n",
       "      <td>4.4</td>\n",
       "    </tr>\n",
       "    <tr>\n",
       "      <th>3</th>\n",
       "      <td>Undertale</td>\n",
       "      <td>4.2</td>\n",
       "    </tr>\n",
       "    <tr>\n",
       "      <th>6</th>\n",
       "      <td>Omori</td>\n",
       "      <td>4.2</td>\n",
       "    </tr>\n",
       "    <tr>\n",
       "      <th>9</th>\n",
       "      <td>NieR: Automata</td>\n",
       "      <td>4.3</td>\n",
       "    </tr>\n",
       "    <tr>\n",
       "      <th>10</th>\n",
       "      <td>Persona 5 Royal</td>\n",
       "      <td>4.4</td>\n",
       "    </tr>\n",
       "    <tr>\n",
       "      <th>12</th>\n",
       "      <td>God of War</td>\n",
       "      <td>4.2</td>\n",
       "    </tr>\n",
       "    <tr>\n",
       "      <th>14</th>\n",
       "      <td>Bloodborne</td>\n",
       "      <td>4.5</td>\n",
       "    </tr>\n",
       "    <tr>\n",
       "      <th>16</th>\n",
       "      <td>Yakuza 0</td>\n",
       "      <td>4.4</td>\n",
       "    </tr>\n",
       "  </tbody>\n",
       "</table>\n",
       "</div>"
      ],
      "text/plain": [
       "                                      Title  Rating\n",
       "Id                                                 \n",
       "0                                Elden Ring     4.5\n",
       "1                                     Hades     4.3\n",
       "2   The Legend of Zelda: Breath of the Wild     4.4\n",
       "3                                 Undertale     4.2\n",
       "6                                     Omori     4.2\n",
       "9                            NieR: Automata     4.3\n",
       "10                          Persona 5 Royal     4.4\n",
       "12                               God of War     4.2\n",
       "14                               Bloodborne     4.5\n",
       "16                                 Yakuza 0     4.4"
      ]
     },
     "execution_count": 20,
     "metadata": {},
     "output_type": "execute_result"
    }
   ],
   "source": [
    "nombresRPG = datosRPG[['Title','Rating']] # con dos corchetes y dentro de ellos separados por comas van los especifícadores\n",
    "nombresRPG.head(10) # ver los primeros 10"
   ]
  },
  {
   "cell_type": "markdown",
   "metadata": {},
   "source": [
    "# AGREGANDO LAS ETIQUETAS DE DATOS AL GRÁFICPO"
   ]
  },
  {
   "cell_type": "code",
   "execution_count": 21,
   "metadata": {},
   "outputs": [
    {
     "data": {
      "image/png": "[encoded data removed]",
      "text/plain": [
       "<Figure size 640x480 with 1 Axes>"
      ]
     },
     "metadata": {},
     "output_type": "display_data"
    }
   ],
   "source": [
    "datasetRPG = nombresRPG.head(13)\n",
    "datasetRPG.set_index('Title', inplace=True) # inplace Modifíca el DataFrame datasetRPG, osea \"en cada\" uno de ellos, agrega el titulo y de así no tengo que crear una nueva Var\n",
    "\n",
    "grafico = datasetRPG['Rating'].plot(kind='bar')\n",
    "\n",
    "# Agregando etiquetasde Rating en las barras\n",
    "for i, rating in enumerate(datasetRPG['Rating']):\n",
    "    grafico.annotate(str(rating), xy=(i,rating), ha='center', va='bottom')\n",
    "plt.show()"
   ]
  },
  {
   "cell_type": "markdown",
   "metadata": {},
   "source": [
    "### Promedio ratings videojuegos RPG"
   ]
  },
  {
   "cell_type": "code",
   "execution_count": 27,
   "metadata": {},
   "outputs": [
    {
     "data": {
      "text/plain": [
       "3.8325581395348833"
      ]
     },
     "execution_count": 27,
     "metadata": {},
     "output_type": "execute_result"
    }
   ],
   "source": [
    "# Las funciones lambda se aplican a cada elemento de la columna Genres\n",
    "# esta funcion comprueba si la cadena \"RPG\" está presente en el valor de cada fila (Resultado serie de booleanos)\n",
    "\n",
    "ratings_RPG = data_sin_nulos[data_sin_nulos['Genres'].apply(lambda x: 'RPG' in x)]['Rating']\n",
    "promedio_RPG = ratings_RPG.mean()\n",
    "\n",
    "promedio_RPG"
   ]
  },
  {
   "cell_type": "markdown",
   "metadata": {},
   "source": [
    "### Promedio ratings videojuegos Indie"
   ]
  },
  {
   "cell_type": "code",
   "execution_count": 29,
   "metadata": {},
   "outputs": [
    {
     "data": {
      "text/plain": [
       "3.7031802120141344"
      ]
     },
     "execution_count": 29,
     "metadata": {},
     "output_type": "execute_result"
    }
   ],
   "source": [
    "ratings_Indie = data_sin_nulos[data_sin_nulos['Genres'].apply(lambda x: 'Indie' in x)]['Rating']\n",
    "promedio_indie = ratings_Indie.mean()\n",
    "\n",
    "promedio_indie"
   ]
  },
  {
   "cell_type": "markdown",
   "metadata": {},
   "source": [
    "### Creacion de un nuevo dataframe"
   ]
  },
  {
   "cell_type": "code",
   "execution_count": 31,
   "metadata": {},
   "outputs": [],
   "source": [
    "#La función DataFrame crea un nuevo DataFrame vacío o a partir de datos existentes\n",
    "#Recibe un diccionario, especificando las etiquetas de las columnas (claves) y sus valores respectivos\n",
    "\n",
    "dataset_promedios = pd.DataFrame({'Genero':['RPG', 'Indie'], 'Promedio':[promedio_RPG,promedio_indie]})"
   ]
  },
  {
   "cell_type": "markdown",
   "metadata": {},
   "source": [
    "## Creacion de gráfico circular"
   ]
  },
  {
   "cell_type": "code",
   "execution_count": 38,
   "metadata": {},
   "outputs": [
    {
     "data": {
      "image/png": "[encoded data removed]",
      "text/plain": [
       "<Figure size 640x480 with 1 Axes>"
      ]
     },
     "metadata": {},
     "output_type": "display_data"
    }
   ],
   "source": [
    "# plt.pie / genera un grafico circular\n",
    "# autopct: es una cadena de formato que especifica cómo se mostrarán los porcentajes en el gráfico circular\n",
    "plt.pie(dataset_promedios['Promedio'], labels=dataset_promedios['Genero'],autopct='%1.1f%%')\n",
    "plt.title('Promedio de los Generos')\n",
    "plt.show()"
   ]
  }
 ],
 "metadata": {
  "kernelspec": {
   "display_name": "Python 3",
   "language": "python",
   "name": "python3"
  },
  "language_info": {
   "codemirror_mode": {
    "name": "ipython",
    "version": 3
   },
   "file_extension": ".py",
   "mimetype": "text/x-python",
   "name": "python",
   "nbconvert_exporter": "python",
   "pygments_lexer": "ipython3",
   "version": "3.11.2"
  }
 },
 "nbformat": 4,
 "nbformat_minor": 2
}
